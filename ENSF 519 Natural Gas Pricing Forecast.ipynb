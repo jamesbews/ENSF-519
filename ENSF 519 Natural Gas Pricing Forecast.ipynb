{
 "cells": [
  {
   "cell_type": "markdown",
   "metadata": {},
   "source": [
    "# ENSF 519.01 Applied Data Science \n",
    "**Final Project - Prediciting Alberta Natural Gas Prices using Machine Learning**\n",
    "\n",
    "**Due:** Sometime in December\n",
    "\n",
    "\n",
    "**Team Members:**\n",
    "James Bews,\n",
    "Kendal Blais,\n",
    "Tevin Schmidt,\n",
    "Peter Schulze,"
   ]
  },
  {
   "cell_type": "markdown",
   "metadata": {},
   "source": [
    "**Phase I:** Collect, Integrate and Clean data\n",
    "\n",
    "\n",
    "**Data Collection**"
   ]
  },
  {
   "cell_type": "code",
   "execution_count": 1,
   "metadata": {},
   "outputs": [],
   "source": [
    "import pandas as pd\n",
    "\n",
    "# aggregate consumption\n",
    "cad_data = pd.read_csv('CAD_NatGasSupply_Monthly.csv', thousands=',').rename(columns={'Month': 'Date'}).set_index('Date') # volumes in cubic meters\n",
    "us_prod_data = pd.read_csv('US_NatGasProd_Monthly.csv').set_index('Date') # volumes in MMcf\n",
    "us_demand_data = pd.read_csv('US_NatGasDemand_Monthly.csv').set_index('Date').dropna() # volumes in MMcf\n",
    "price_data = pd.read_csv('US_CAN_NatGas_Prices.csv').set_index('Date') # prices in USD\n"
   ]
  },
  {
   "cell_type": "code",
   "execution_count": 5,
   "metadata": {},
   "outputs": [
    {
     "data": {
      "text/plain": [
       "b'<html><head><meta http-equiv=\"Pragma\" content=\"no-cache\"/>\\r\\n<meta http-equiv=\"Expires\" content=\"-1\"/>\\r\\n<meta http-equiv=\"CacheControl\" content=\"no-cache\"/>\\r\\n<script>\\r\\n(function(){})();</script><script type=\"text/javascript\">\\r\\nfunction decode_string(in_str) { return decodeURIComponent(in_str); }\\r\\nfunction decode_action() {var f = document.forms[0];if (f.attributes[\\'action\\'] != undefined) {f.attributes[\\'action\\'].value = decode_string(f.attributes[\\'action\\'].value);} else { f.action = decode_string(f.action);}}function submit_form() {var e = document.forms[0].elements;e[1].value = decode_string(e[1].value);e[2].value = decode_string(e[2].value);e[5].value = decode_string(e[5].value);e[7].value = decode_string(e[7].value);document.forms[0].submit();}function cookie_redirect() {var cookie = \\'\\';var e = document.forms[0].elements;var uri = (document.forms[0].attributes[\\'action\\'] != undefined) ?document.forms[0].attributes[\\'action\\'].value : document.forms[0].action;var path  = uri;var tchr  = \\'&\\';var token = path.indexOf(\\'?\\');if (token < 0) {token = path.indexOf(\\'#\\');tchr  = \\'#\\';}if (token > 0) {path = path.substr(0,token);}for(i = 0; i < e.length; i++) {cookie += e[i].name + \\'=\\' + e[i].value;if (i < (e.length - 1))  cookie += \\'&\\';}var d = new Date();d.setTime(d.getTime() + 5000);document.cookie = e[0].name.substr(0,11) + \\'75=\\' + cookie + \\';expires=\\' + d.toGMTString() + \\';path=\\' + path;var qs = (token > 0)?(tchr + uri.substr(token + 1,uri.length - token - 1)):\\'\\';uri = path + \\'?\\' + e[0].name + \\'=\\' + e[0].value + qs;window.location.replace(uri);}function challenge(){var table = \"00000000 77073096 EE0E612C 990951BA 076DC419 706AF48F E963A535 9E6495A3 0EDB8832 79DCB8A4 E0D5E91E 97D2D988 09B64C2B 7EB17CBD E7B82D07 90BF1D91 1DB71064 6AB020F2 F3B97148 84BE41DE 1ADAD47D 6DDDE4EB F4D4B551 83D385C7 136C9856 646BA8C0 FD62F97A 8A65C9EC 14015C4F 63066CD9 FA0F3D63 8D080DF5 3B6E20C8 4C69105E D56041E4 A2677172 3C03E4D1 4B04D447 D20D85FD A50AB56B 35B5A8FA 42B2986C DBBBC9D6 ACBCF940 32D86CE3 45DF5C75 DCD60DCF ABD13D59 26D930AC 51DE003A C8D75180 BFD06116 21B4F4B5 56B3C423 CFBA9599 B8BDA50F 2802B89E 5F058808 C60CD9B2 B10BE924 2F6F7C87 58684C11 C1611DAB B6662D3D 76DC4190 01DB7106 98D220BC EFD5102A 71B18589 06B6B51F 9FBFE4A5 E8B8D433 7807C9A2 0F00F934 9609A88E E10E9818 7F6A0DBB 086D3D2D 91646C97 E6635C01 6B6B51F4 1C6C6162 856530D8 F262004E 6C0695ED 1B01A57B 8208F4C1 F50FC457 65B0D9C6 12B7E950 8BBEB8EA FCB9887C 62DD1DDF 15DA2D49 8CD37CF3 FBD44C65 4DB26158 3AB551CE A3BC0074 D4BB30E2 4ADFA541 3DD895D7 A4D1C46D D3D6F4FB 4369E96A 346ED9FC AD678846 DA60B8D0 44042D73 33031DE5 AA0A4C5F DD0D7CC9 5005713C 270241AA BE0B1010 C90C2086 5768B525 206F85B3 B966D409 CE61E49F 5EDEF90E 29D9C998 B0D09822 C7D7A8B4 59B33D17 2EB40D81 B7BD5C3B C0BA6CAD EDB88320 9ABFB3B6 03B6E20C 74B1D29A EAD54739 9DD277AF 04DB2615 73DC1683 E3630B12 94643B84 0D6D6A3E 7A6A5AA8 E40ECF0B 9309FF9D 0A00AE27 7D079EB1 F00F9344 8708A3D2 1E01F268 6906C2FE F762575D 806567CB 196C3671 6E6B06E7 FED41B76 89D32BE0 10DA7A5A 67DD4ACC F9B9DF6F 8EBEEFF9 17B7BE43 60B08ED5 D6D6A3E8 A1D1937E 38D8C2C4 4FDFF252 D1BB67F1 A6BC5767 3FB506DD 48B2364B D80D2BDA AF0A1B4C 36034AF6 41047A60 DF60EFC3 A867DF55 316E8EEF 4669BE79 CB61B38C BC66831A 256FD2A0 5268E236 CC0C7795 BB0B4703 220216B9 5505262F C5BA3BBE B2BD0B28 2BB45A92 5CB36A04 C2D7FFA7 B5D0CF31 2CD99E8B 5BDEAE1D 9B64C2B0 EC63F226 756AA39C 026D930A 9C0906A9 EB0E363F 72076785 05005713 95BF4A82 E2B87A14 7BB12BAE 0CB61B38 92D28E9B E5D5BE0D 7CDCEFB7 0BDBDF21 86D3D2D4 F1D4E242 68DDB3F8 1FDA836E 81BE16CD F6B9265B 6FB077E1 18B74777 88085AE6 FF0F6A70 66063BCA 11010B5C 8F659EFF F862AE69 616BFFD3 166CCF45 A00AE278 D70DD2EE 4E048354 3903B3C2 A7672661 D06016F7 4969474D 3E6E77DB AED16A4A D9D65ADC 40DF0B66 37D83BF0 A9BCAE53 DEBB9EC5 47B2CF7F 30B5FFE9 BDBDF21C CABAC28A 53B39330 24B4A3A6 BAD03605 CDD70693 54DE5729 23D967BF B3667A2E C4614AB8 5D681B02 2A6F2B94 B40BBE37 C30C8EA1 5A05DF1B 2D02EF8D\";\\r\\nvar c = 2086774959\\r\\nvar slt = \"Q8bVdc3Y\"\\r\\nvar s1 = \\'v\\'\\r\\nvar s2 = \\'z\\'\\r\\nvar n = 4\\r\\nvar send_cookie = 0\\r\\nvar start = s1.charCodeAt(0);\\r\\nvar end   = s2.charCodeAt(0);\\r\\nvar arr = new Array(n);\\r\\nvar m = Math.pow(((end - start) + 1),n);\\r\\nfor (var i=0; i<n; i++)\\r\\narr[i] = s1;\\r\\nfor (var i=0; i<m-1; i++){\\r\\nfor(var j=n-1; j>=0;--j) {\\r\\nvar t = arr[j].charCodeAt(0);\\r\\nt++; arr[j] = String.fromCharCode(t);\\r\\nif (arr[j].charCodeAt(0)<=end) {\\r\\nbreak;} else { arr[j] = s1 ;}}\\r\\nvar chlg = arr.join(\"\"); var str = chlg + slt;\\r\\nvar crc = 0;\\r\\ncrc = crc ^ (-1);\\r\\nfor( var k = 0, iTop = str.length; k < iTop; k++ ){ crc = (crc >> 8) ^ (\"0x\" + table.substr(((crc ^ str.charCodeAt(k) ) & 0x000000FF) * 9, 8));}\\r\\ncrc =  crc ^ (-1);\\r\\ncrc = Math.abs(crc);\\r\\nif (crc == parseInt(c)){break;}}\\r\\ndocument.forms[0].elements[1].value=\"ac98751e7aefe5b2f7d16b48a35a819a:\" + chlg + \":\" + slt + \":\" + crc;decode_action();if(send_cookie == 0){ submit_form(); } else { cookie_redirect(); } }</script>\\r\\n<noscript>Please enable JavaScript to view the page content.</noscript>\\r\\n</head><body onload=\"challenge()\"> <form method=\"POST\" action=\"%2ft1%2ftbl1%2fen%2fcv!recreate.action%3fpid%3d2510005701%26selectedNodeIds%3d2D2%2c3D1%26checkedLevels%3d0D1%26refPeriods%3d20160101%2c20190801%26dimensionLayouts%3dlayout2%2clayout3%2clayout2%2clayout2%26vectorDisplay%3dfalse\"/><input type=\"hidden\" name=\"TS011c6724_id\" value=\"3\"/><input type=\"hidden\" name=\"TS011c6724_cr\" value=\"\"/><input type=\"hidden\" name=\"TS011c6724_76\" value=\"0\"/><input type=\"hidden\" name=\"TS011c6724_86\" value=\"0\"/><input type=\"hidden\" name=\"TS011c6724_md\" value=\"1\"/><input type=\"hidden\" name=\"TS011c6724_rf\" value=\"0\"/><input type=\"hidden\" name=\"TS011c6724_ct\" value=\"0\"/><input type=\"hidden\" name=\"TS011c6724_pd\" value=\"0\"/></form></body></html>'"
      ]
     },
     "execution_count": 5,
     "metadata": {},
     "output_type": "execute_result"
    }
   ],
   "source": [
    "from bs4 import BeautifulSoup\n",
    "import requests\n",
    "from datetime import datetime\n",
    "\n",
    "# Due to \n",
    "\n",
    "storage_stats_url = 'https://www150.statcan.gc.ca/t1/tbl1/en/cv!recreate.action?pid=2510005701&selectedNodeIds=2D2,3D1&checkedLevels=0D1&refPeriods=20160101,20190801&dimensionLayouts=layout2,layout3,layout2,layout2&vectorDisplay=false'\n",
    "\n",
    "def get_page_html(url):\n",
    "    return requests.get(url,timeout=10)\n",
    "\n",
    "storage_stats_html = get_page_html(storage_stats_url).content\n",
    "storage_stats_html"
   ]
  },
  {
   "cell_type": "code",
   "execution_count": 6,
   "metadata": {},
   "outputs": [
    {
     "data": {
      "text/html": [
       "<div>\n",
       "<style scoped>\n",
       "    .dataframe tbody tr th:only-of-type {\n",
       "        vertical-align: middle;\n",
       "    }\n",
       "\n",
       "    .dataframe tbody tr th {\n",
       "        vertical-align: top;\n",
       "    }\n",
       "\n",
       "    .dataframe thead th {\n",
       "        text-align: right;\n",
       "    }\n",
       "</style>\n",
       "<table border=\"1\" class=\"dataframe\">\n",
       "  <thead>\n",
       "    <tr style=\"text-align: right;\">\n",
       "      <th></th>\n",
       "      <th>CAD Storage Volumes (MMcf)</th>\n",
       "    </tr>\n",
       "    <tr>\n",
       "      <th>Date</th>\n",
       "      <th></th>\n",
       "    </tr>\n",
       "  </thead>\n",
       "  <tbody>\n",
       "  </tbody>\n",
       "</table>\n",
       "</div>"
      ],
      "text/plain": [
       "Empty DataFrame\n",
       "Columns: [CAD Storage Volumes (MMcf)]\n",
       "Index: []"
      ]
     },
     "execution_count": 6,
     "metadata": {},
     "output_type": "execute_result"
    }
   ],
   "source": [
    "\n",
    "parser = BeautifulSoup(storage_stats_html, 'html.parser')\n",
    "\n",
    "column_name_selector = '.pub-table .uom-center.bold'\n",
    "date_column = list(map(lambda elem: elem.text, parser.select(column_name_selector)))[2:]\n",
    "date_column = list(map(lambda elem: datetime.strptime(elem, '%B %Y').strftime('%b-%y'), date_column))\n",
    "\n",
    "column_name_selector = '.pub-table .highlight-row .align-right'\n",
    "closing_inventory_column = list(map(lambda elem: float(elem.text.replace(',', '')), parser.select(column_name_selector)))\n",
    "\n",
    "storage_stats_dict = {'Date': date_column, 'CAD Storage Volumes (MMcf)': closing_inventory_column}\n",
    "storage_stats_df = pd.DataFrame(storage_stats_dict).set_index('Date')\n",
    "# storage_stats_df contains closing inventory of a given month in cubic meters\n",
    "storage_stats_df\n"
   ]
  },
  {
   "cell_type": "markdown",
   "metadata": {},
   "source": [
    "**Data Preparation**\n",
    "\n",
    "- Canadian demand need to be agregated\n",
    "- Volumes must be converted to MMcf\n",
    "- USD must be convetred to CAD\n"
   ]
  },
  {
   "cell_type": "code",
   "execution_count": null,
   "metadata": {},
   "outputs": [],
   "source": [
    "# Aggregate CAD Consumption\n",
    "cad_data['CAD Natural Gas Consumption (MMcf)'] = cad_data['Residential consumption']+cad_data['Commercial consumption']+cad_data['Industrial consumption']\n",
    "cad_data = cad_data.rename(columns={'Marketable production': 'CAD Natural Gas Production (MMcf)'})\n",
    "cad_data = cad_data.drop(['Gross withdrawals','Imports','Residential consumption', 'Industrial consumption', 'Commercial consumption', 'Exports', 'Opening inventory', 'Closing inventory', 'Inventory change'], axis=1)\n",
    "cad_data"
   ]
  },
  {
   "cell_type": "code",
   "execution_count": null,
   "metadata": {},
   "outputs": [],
   "source": [
    "# Convert volumes \n",
    "\n",
    "# cubic meters to cubic feet -> 35.3146667\n",
    "# divide by 1 million to convert cubic feet to MMcf\n",
    "# times by 1000 because the Canadian data was given to us with a scale of 1000 \n",
    "cm_to_mmcf = 35.3146667 / 1000000 * 1000\n",
    "# First convert storage_stats_df from cubic meters to MMcf\n",
    "conv_cad_storage = storage_stats_df['CAD Storage Volumes (MMcf)'].apply(lambda x: x * cm_to_mmcf)\n",
    "\n",
    "# Second convert price_data from USD to CAD\n",
    "conv_price_data = pd.DataFrame()\n",
    "conv_price_data['AECO (CAD/MMBtu)'] = price_data.apply(\n",
    "    lambda x: x['AECO (USD/MMBtu)'] / x['CADUSD'], axis=1)\n",
    "conv_price_data['AECO (CAD/GJ)'] = conv_price_data.apply(\n",
    "    lambda x: round(x['AECO (CAD/MMBtu)'] * 1.055056, 2), axis=1)\n",
    "conv_price_data = conv_price_data.drop(['AECO (CAD/MMBtu)'], axis=1)\n",
    "# Third convert cad_data from cubic meters to MMcf\n",
    "conv_cad_data = cad_data.apply(lambda x: x * cm_to_mmcf)\n",
    "conv_price_data"
   ]
  },
  {
   "cell_type": "markdown",
   "metadata": {},
   "source": [
    "**Data Exploration**"
   ]
  },
  {
   "cell_type": "code",
   "execution_count": null,
   "metadata": {},
   "outputs": [],
   "source": [
    "import matplotlib.pyplot as plt\n",
    "%matplotlib inline\n",
    "\n",
    "#CAD Production\n",
    "ax = plt.gca()\n",
    "conv_cad_data.plot(kind='line', y='CAD Natural Gas Production (MMcf)', ax=ax)\n",
    "plt.show()"
   ]
  },
  {
   "cell_type": "code",
   "execution_count": null,
   "metadata": {},
   "outputs": [],
   "source": [
    "#CAD Consumption\n",
    "ax = plt.gca()\n",
    "conv_cad_data.plot(kind='line', y='CAD Natural Gas Consumption (MMcf)', ax=ax)\n",
    "plt.show()"
   ]
  },
  {
   "cell_type": "code",
   "execution_count": null,
   "metadata": {},
   "outputs": [],
   "source": [
    "# CAD Storage Volumes\n",
    "ax = plt.gca()\n",
    "storage_stats_df.plot(kind='line', y='CAD Storage Volumes (MMcf)', ax=ax)\n",
    "plt.show()"
   ]
  },
  {
   "cell_type": "code",
   "execution_count": null,
   "metadata": {},
   "outputs": [],
   "source": [
    "#US Production\n",
    "ax = plt.gca()\n",
    "us_prod_data.plot(kind='line', y='U.S. Dry Natural Gas Production (MMcf)', ax=ax)\n",
    "plt.show()"
   ]
  },
  {
   "cell_type": "code",
   "execution_count": null,
   "metadata": {},
   "outputs": [],
   "source": [
    "#US Demand\n",
    "ax = plt.gca()\n",
    "us_demand_data.plot(kind='line', y='U.S. Natural Gas Total Consumption (MMcf)', ax=ax)\n",
    "plt.show()"
   ]
  },
  {
   "cell_type": "code",
   "execution_count": null,
   "metadata": {},
   "outputs": [],
   "source": [
    "# AECO Nat Gas Pricing\n",
    "ax = plt.gca()\n",
    "conv_price_data.plot(kind='line', y='AECO (CAD/GJ)', ax=ax)\n",
    "plt.show()"
   ]
  },
  {
   "cell_type": "code",
   "execution_count": null,
   "metadata": {},
   "outputs": [],
   "source": [
    "#Merging all data into one dataframe\n",
    "\n",
    "total_us_data = us_prod_data.merge(us_demand_data, left_index=True, right_on='Date')\n",
    "total_cad_data = conv_cad_data.merge(conv_cad_storage, left_index=True, right_on='Date')\n",
    "\n",
    "total_data = total_us_data.merge(total_cad_data, left_index=True, right_on='Date')\n",
    "total_data = total_data.apply(lambda x: round(x.apply(lambda y: int(y))))\n",
    "features = total_data.merge(conv_price_data, left_index=True, right_on='Date')\n",
    "features = features.reset_index()\n",
    "features['Date'] = pd.to_datetime(features.Date, format='%b-%y')\n",
    "features = features.set_index('Date')\n",
    "features"
   ]
  },
  {
   "cell_type": "markdown",
   "metadata": {},
   "source": [
    "**Data Prediction**"
   ]
  },
  {
   "cell_type": "markdown",
   "metadata": {},
   "source": [
    "**Testing Causality (Granger's Causality Test)**\n",
    "\n",
    "If the p-value between 2 variables X and Y is less than 0.05, then X causes Y"
   ]
  },
  {
   "cell_type": "code",
   "execution_count": null,
   "metadata": {},
   "outputs": [],
   "source": [
    "import numpy as np\n",
    "from statsmodels.tsa.stattools import grangercausalitytests\n",
    "\n",
    "def grangers_test(data, variables, test='ssr_chi2test', maxlag=12, verbose=False):\n",
    "    df = pd.DataFrame(np.zeros((len(variables), len(variables))), columns=variables, index=variables)\n",
    "    for column in df.columns:\n",
    "        for row in df.index:\n",
    "            test_result = grangercausalitytests(data[[row,column]], maxlag=maxlag, verbose=verbose)\n",
    "            p_values = [round(test_result[i+1][0][test][1], 4) for i in range(maxlag)]\n",
    "            \n",
    "            min_p_value = np.min(p_values)\n",
    "            df.loc[row,column] = min_p_value\n",
    "            \n",
    "    df.columns = [var + '_x' for var in variables]\n",
    "    df.index = [var + '_y' for var in variables]\n",
    "    return df\n",
    "\n",
    "grangers_test(features, variables=features.columns)"
   ]
  },
  {
   "cell_type": "code",
   "execution_count": null,
   "metadata": {},
   "outputs": [],
   "source": [
    "n_obs = 10\n",
    "X_train, X_test = features[0:-n_obs], features[-n_obs:]\n",
    "\n",
    "print(X_train.shape)\n",
    "print(X_test.shape)"
   ]
  },
  {
   "cell_type": "code",
   "execution_count": null,
   "metadata": {},
   "outputs": [],
   "source": [
    "from statsmodels.tsa.stattools import adfuller\n",
    "from scipy import stats\n",
    "\n",
    "def adf_test(series, signif=0.05, name='', verbose=False):\n",
    "    r = adfuller(series, autolag='AIC')\n",
    "    output = {'test_statistic':round(r[0], 4), 'pvalue':round(r[1],4), 'n_lags':round(r[2], 4), 'n_obs':r[3]}\n",
    "    p_value = output['pvalue']\n",
    "    def adjust(val, length=6): return str(val).ljust(length)\n",
    "    \n",
    "    print(f'    Augmented Dickey-Fuller Test on \"{name}\"', \"\\n   \", '-'*47)\n",
    "    print(f' Significance Level    = {signif}')\n",
    "    print(f' No. Lags Chosen       = {output[\"n_lags\"]}')\n",
    "\n",
    "    if p_value <= signif:\n",
    "        print(f\" => P-Value = {p_value}. Rejecting Null Hypothesis.\")\n",
    "        print(f\" => Series is Stationary.\")\n",
    "    else:\n",
    "        print(f\" => P-Value = {p_value}. Weak evidence to reject the Null Hypothesis.\")\n",
    "        print(f\" => Series is Non-Stationary.\")\n",
    "    return output\n",
    "          \n",
    "def test_stationality(df):\n",
    "    lags = []\n",
    "    for name, column in df.iteritems():\n",
    "          output = adf_test(column, name=column.name)\n",
    "          lags.append(output['n_lags'])\n",
    "          print('\\n')\n",
    "    lags = np.array(lags)\n",
    "    return stats.mode(lags)[0][0]\n",
    "\n",
    "        \n",
    "lag = test_stationality(X_train)\n",
    "print('Lag -> ', lag)"
   ]
  },
  {
   "cell_type": "code",
   "execution_count": null,
   "metadata": {},
   "outputs": [],
   "source": [
    "#First Difference\n",
    "\n",
    "differenced = X_train.diff().dropna()\n",
    "lag = test_stationality(differenced)\n",
    "print('Lag -> ', lag)\n",
    "ax = plt.gca()\n",
    "differenced.plot(kind='line', y='U.S. Dry Natural Gas Production (MMcf)', ax=ax)\n",
    "plt.show()"
   ]
  },
  {
   "cell_type": "code",
   "execution_count": null,
   "metadata": {},
   "outputs": [],
   "source": [
    "differenced = differenced.diff().dropna()\n",
    "test_stationality(differenced)\n",
    "print('Lag -> ', lag)\n",
    "ax = plt.gca()\n",
    "differenced.plot(kind='line', y='U.S. Dry Natural Gas Production (MMcf)', ax=ax)\n",
    "plt.show()"
   ]
  },
  {
   "cell_type": "code",
   "execution_count": null,
   "metadata": {},
   "outputs": [],
   "source": [
    "from statsmodels.tsa.api import VAR\n",
    "\n",
    "model = VAR(differenced)\n",
    "model_fitted = model.fit(lag)"
   ]
  },
  {
   "cell_type": "code",
   "execution_count": null,
   "metadata": {},
   "outputs": [],
   "source": [
    "forecast_input = differenced.values[-lag:]\n",
    "fc = model_fitted.forecast(y=forecast_input, steps=n_obs)\n",
    "df_forecast = pd.DataFrame(fc, index=features.index[-n_obs:], columns=features.columns + '_2d')\n",
    "df_forecast"
   ]
  },
  {
   "cell_type": "code",
   "execution_count": null,
   "metadata": {},
   "outputs": [],
   "source": [
    "# Undifference\n",
    "\n",
    "columns = X_train.columns\n",
    "for column in columns:\n",
    "    df_forecast[str(column) + '_ld'] = (X_train[column].iloc[-1] - X_train[column].iloc[-2]) + df_forecast[str(column) + '_2d'].cumsum()\n",
    "    # Roll back 1st diff \n",
    "    df_forecast[str(column) + '_fc'] = X_train[column].iloc[-1] + df_forecast[str(column) + '_ld'].cumsum()\n",
    "\n",
    "df_forecast.loc[:,['U.S. Dry Natural Gas Production (MMcf)_fc', 'U.S. Natural Gas Total Consumption (MMcf)_fc', 'CAD Natural Gas Production (MMcf)_fc', 'CAD Natural Gas Consumption (MMcf)_fc', 'CAD Storage Volumes (MMcf)_fc', 'AECO (CAD/GJ)_fc']]\n"
   ]
  },
  {
   "cell_type": "code",
   "execution_count": null,
   "metadata": {},
   "outputs": [],
   "source": [
    "fig, axes = plt.subplots(nrows=int(len(features.columns)/2), ncols=2, dpi=150, figsize=(10,10))\n",
    "for i, (col,ax) in enumerate(zip(features.columns, axes.flatten())):\n",
    "    df_forecast[col+'_fc'].plot(legend=True, color='b', ax=ax).autoscale(axis='x',tight=True)\n",
    "    X_test[col][-n_obs:].plot(legend=True, color='r', ax=ax);\n",
    "    ax.set_title(col + \": Forecast vs Actuals\")\n",
    "    ax.xaxis.set_ticks_position('none')\n",
    "    ax.yaxis.set_ticks_position('none')\n",
    "    ax.spines[\"top\"].set_alpha(0)\n",
    "    ax.tick_params(labelsize=6)\n",
    "\n",
    "plt.tight_layout();"
   ]
  },
  {
   "cell_type": "code",
   "execution_count": null,
   "metadata": {},
   "outputs": [],
   "source": []
  }
 ],
 "metadata": {
  "kernelspec": {
   "display_name": "Python 3",
   "language": "python",
   "name": "python3"
  },
  "language_info": {
   "codemirror_mode": {
    "name": "ipython",
    "version": 3
   },
   "file_extension": ".py",
   "mimetype": "text/x-python",
   "name": "python",
   "nbconvert_exporter": "python",
   "pygments_lexer": "ipython3",
   "version": "3.7.3"
  }
 },
 "nbformat": 4,
 "nbformat_minor": 2
}
